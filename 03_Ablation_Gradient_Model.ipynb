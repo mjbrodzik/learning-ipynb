{
 "cells": [
  {
   "cell_type": "markdown",
   "metadata": {},
   "source": [
    "# Running the ablation gradient model on MODICE clean ice hypsometry"
   ]
  },
  {
   "cell_type": "markdown",
   "metadata": {},
   "source": [
    "## <i><p>Purpose of this notebook:  Introduce you to:     <ol>         <li> a few ways to make a plot nicer looking</li>         <li> an implementation of the ablation-gradient model, using MODICE hypsometry for clean ice</li>     </ol> </p>     <p>At the end of this lesson, you should be able to read a MODICE hypsometry file, and:     <ol>         <li> run the clean ice ablation gradient model for several basins and different inputs, and         <li> compare results     </ol> </p></i>"
   ]
  },
  {
   "cell_type": "code",
   "execution_count": null,
   "metadata": {
    "collapsed": false
   },
   "outputs": [],
   "source": [
    "%pylab notebook\n",
    "import numpy as np\n",
    "import matplotlib.pyplot as plt\n",
    "import pandas as pd\n",
    "from imp import reload\n",
    "pd.set_option('display.max_rows', 370)\n",
    "pd.set_option('display.max_columns', 90)\n",
    "pd.set_option('display.width', 200)"
   ]
  },
  {
   "cell_type": "markdown",
   "metadata": {},
   "source": [
    "## Read a MODICE file as a python hypsometry object:"
   ]
  },
  {
   "cell_type": "code",
   "execution_count": null,
   "metadata": {
    "collapsed": false
   },
   "outputs": [],
   "source": [
    "import hypsometry\n",
    "reload(hypsometry)\n",
    "filename = \"modice_area_by_elev/IN_Indus_at_Kotri.0100m.area_by_elev.txt\"\n",
    "modice = hypsometry.Hypsometry()\n",
    "modice.read( filename, verbose=True )"
   ]
  },
  {
   "cell_type": "code",
   "execution_count": null,
   "metadata": {
    "collapsed": false
   },
   "outputs": [],
   "source": [
    "modice.data.columns = [float(col) for col in modice.data.columns]\n",
    "modice.data"
   ]
  },
  {
   "cell_type": "markdown",
   "metadata": {},
   "source": [
    "## Display it as a bar plot (change the default y axis labelling)"
   ]
  },
  {
   "cell_type": "code",
   "execution_count": null,
   "metadata": {
    "collapsed": false,
    "scrolled": false
   },
   "outputs": [],
   "source": [
    "modice.data.ix[0].plot( title='IN_Indus_at_Kotri MODICE by elevation', kind='barh',figsize=(12,8) )"
   ]
  },
  {
   "cell_type": "code",
   "execution_count": null,
   "metadata": {
    "collapsed": false
   },
   "outputs": [],
   "source": [
    "fig, ax = plt.subplots(1,1)\n",
    "ax.set_title('IN_Indus_at_Kotri MODICE by elevation')\n",
    "ax.set_xlabel('MODICE Area($km^2$)')\n",
    "ax.set_ylabel('Elevation ($m$)')\n",
    "modice.data.ix[0].plot( kind='barh',figsize=(12,12))\n",
    "ax.set_yticks( ax.get_yticks()[::10] )\n",
    "ax.set_yticklabels( modice.data.columns[::10] )"
   ]
  },
  {
   "cell_type": "markdown",
   "metadata": {},
   "source": [
    "## Use this MODICE area data to run the ablation model for clean ice, which is: <br> $Q = \\sum\\limits_{i=1}^n{b_{i} A_{i}}$ <br> for  <br>$Q$ = glacier ice melt volume, $m^3$ <br>$b_{i}$ = specific ice melt at elevation band $i$, $\\frac{m}{100 m}$ <br>$A_{i}$ = clean ice area at elevation band $i$, $km^2$"
   ]
  },
  {
   "cell_type": "markdown",
   "metadata": {},
   "source": [
    "Ref: Racoviteanu, A. E., R. Armstrong, and M. W. Williams (2013), Evaluation of an ice ablation model to estimate the contribution of melting glacier ice to annual discharge in the Nepal Himalaya, Water Resour. Res., 49, 5117–5133, doi:10.1002/wrcr.20370."
   ]
  },
  {
   "cell_type": "code",
   "execution_count": null,
   "metadata": {
    "collapsed": false
   },
   "outputs": [],
   "source": [
    "import racovite_ablation_model\n",
    "reload( racovite_ablation_model )\n",
    "melt = racovite_ablation_model.run( modice, 5000., 0.6 )"
   ]
  },
  {
   "cell_type": "code",
   "execution_count": null,
   "metadata": {
    "collapsed": false
   },
   "outputs": [],
   "source": [
    "melt.data"
   ]
  },
  {
   "cell_type": "code",
   "execution_count": null,
   "metadata": {
    "collapsed": false
   },
   "outputs": [],
   "source": [
    "melt.data.max(axis=1)"
   ]
  },
  {
   "cell_type": "code",
   "execution_count": null,
   "metadata": {
    "collapsed": false
   },
   "outputs": [],
   "source": [
    "melt.comments"
   ]
  },
  {
   "cell_type": "code",
   "execution_count": null,
   "metadata": {
    "collapsed": false
   },
   "outputs": [],
   "source": [
    "melt.comments.append( \"ELA=500m\" )"
   ]
  },
  {
   "cell_type": "code",
   "execution_count": null,
   "metadata": {
    "collapsed": false
   },
   "outputs": [],
   "source": [
    "melt.comments.append( \"db/dz=0.6m/100m\" )"
   ]
  },
  {
   "cell_type": "code",
   "execution_count": null,
   "metadata": {
    "collapsed": false
   },
   "outputs": [],
   "source": [
    "melt.comments"
   ]
  },
  {
   "cell_type": "code",
   "execution_count": null,
   "metadata": {
    "collapsed": false
   },
   "outputs": [],
   "source": [
    "out_filename = \"modice_area_by_elev/IN_Indus_at_Kotri.0100m.racovite_clean_ice_melt_by_elev.txt\"\n",
    "melt.write( out_filename, verbose=True )"
   ]
  },
  {
   "cell_type": "code",
   "execution_count": null,
   "metadata": {
    "collapsed": false
   },
   "outputs": [],
   "source": [
    "!cat modice_area_by_elev/IN_Indus_at_Kotri.0100m.racovite_clean_ice_melt_by_elev.txt"
   ]
  },
  {
   "cell_type": "code",
   "execution_count": null,
   "metadata": {
    "collapsed": false
   },
   "outputs": [],
   "source": [
    "melt.data.ix[0].plot( title='IN_Indus_at_Kotri ablation melt by elevation', kind='barh',figsize=(12,8) )"
   ]
  },
  {
   "cell_type": "code",
   "execution_count": null,
   "metadata": {
    "collapsed": false
   },
   "outputs": [],
   "source": [
    "subset = melt.data[melt.data.columns[20:60]].ix[0]\n",
    "subset"
   ]
  },
  {
   "cell_type": "code",
   "execution_count": null,
   "metadata": {
    "collapsed": false
   },
   "outputs": [],
   "source": [
    "label = 'Total melt=%.2f $km^3$' % ( melt.data.sum( axis=1 ).values[ 0 ] )\n",
    "label"
   ]
  },
  {
   "cell_type": "code",
   "execution_count": null,
   "metadata": {
    "collapsed": false,
    "scrolled": false
   },
   "outputs": [],
   "source": [
    "subset = melt.data[melt.data.columns[20:60]].ix[0]\n",
    "fig, ax = plt.subplots(1,1)\n",
    "ax.set_title('IN_Indus_at_Kotri ablation model melt from MODICE')\n",
    "ax.set_xlabel('Melt ($km^3$)')\n",
    "ax.set_ylabel('Elevation ($m$)')\n",
    "#melt.data.ix[0].plot( title='IN_Indus_at_Kotri ablation melt by elevation', kind='barh',figsize=(12,12))\n",
    "subset.plot( title='IN_Indus_at_Kotri ablation melt by elevation', kind='barh',figsize=(12,12), label=label)\n",
    "ax.set_yticks( ax.get_yticks()[::10] )\n",
    "ax.set_yticklabels( subset.index[::10] )\n",
    "ax.legend(loc='best')"
   ]
  },
  {
   "cell_type": "markdown",
   "metadata": {},
   "source": [
    "Exercise:  There are modice files for the 5 CHARIS basins in the directory called modice_area_by_elev.  Try running each basin with the following ELA and db/dz, plot the results, and compare them.\n",
    "<table>\n",
    "    <tr>\n",
    "        <th>Basin Name</th>\n",
    "        <th>ELA (m)</th>\n",
    "        <th>db/dz (m/100m)</th>\n",
    "    </tr>\n",
    "    <tr>\n",
    "        <td>AM_AmuDarya_at_Chatly</td>\n",
    "        <td>4600</td>\n",
    "        <td>?</td>\n",
    "    </tr>\n",
    "    <tr>\n",
    "        <td>BR_Bramaputra_at_Bahadurabad</td>\n",
    "        <td>5700</td>\n",
    "        <td>0.6</td>\n",
    "    </tr>\n",
    "    <tr>\n",
    "        <td>IN_Indus_at_Kotri</td>\n",
    "        <td>5200</td>\n",
    "        <td>0.7</td>\n",
    "    </tr>\n",
    "       <tr>\n",
    "        <td>GA_Ganges_at_Paksey</td>\n",
    "        <td>5700</td>\n",
    "        <td>0.6</td>\n",
    "    </tr>\n",
    "    <tr>\n",
    "        <td>SY_SyrDarya_at_TyumenAryk</td>\n",
    "        <td>4100</td>\n",
    "        <td>??</td>\n",
    "    </tr>    \n",
    "</table>\n",
    "        "
   ]
  },
  {
   "cell_type": "code",
   "execution_count": null,
   "metadata": {
    "collapsed": false
   },
   "outputs": [],
   "source": [
    "basins = [ 'AM', 'SY', 'IN', 'GA', 'BR' ]\n",
    "x1 = numpy.array( [ 1, 2, 3, 4, 5 ] )\n",
    "x2 = x1 + 0.25\n",
    "x3 = x2 + 0.25\n",
    "area = numpy.array( [ 448967., 249068., 844673., 943244., 514184. ] )\n",
    "ice = numpy.array( [ 12343.5, 2398.14, 29858.8, 10812.1, 18678.7 ] )\n",
    "fig, ax = plt.subplots(1,1)\n",
    "figsize( 12, 8 )\n",
    "ax.set_title('CHARIS Basins')\n",
    "ax.set_ylabel('Area (x $10^3$ $km^2$)')\n",
    "plt.bar( x2, area / 1000., width=0.25, color='grey', label='Basin Area' )\n",
    "plt.bar( x3, ice / 1000., width=0.25, color='blue', label='MODICE' )\n",
    "ax.set_xticks( x3 )\n",
    "ax.set_xticklabels( basins )\n",
    "ax.legend(loc='best')\n",
    "fig.savefig('charis_basin_ice_area.png', dpi=300 )  # change filename to .pdf to save to different format\n"
   ]
  },
  {
   "cell_type": "code",
   "execution_count": null,
   "metadata": {
    "collapsed": false
   },
   "outputs": [],
   "source": [
    "basins = [ 'AM', 'SY', 'IN', 'GA', 'BR' ]\n",
    "\n",
    "x1 = numpy.array( [ 1, 2, 3, 4, 5 ] )\n",
    "x2 = x1 + 0.25\n",
    "x3 = x2 + 0.25\n",
    "discharge = numpy.array( [ 43.2, 16.6, 90.5, 379.9, 690.5 ] )\n",
    "discharge_stdev = numpy.array( [ 11.4, 8.1, 24.9, 77.4, 122.2 ] )\n",
    "total = numpy.array( [ 100., 100., 100., 100., 100. ] )\n",
    "high_melt = numpy.array( [ 9.2, 1.5, 42.6, 22.2, 88.5 ] )\n",
    "mid_high_melt = numpy.array( [ 6.1, 1.0, 31.8, 15.6, 66.7 ] )\n",
    "mid_low_melt = numpy.array( [ 5.2, 0.6, 23.8, 13.6, 63.2 ] )\n",
    "low_melt = numpy.array( [ 3.4, 0.4, 17.7, 9.6, 47.6 ] )\n",
    "\n",
    "#melt = numpy.array()\n",
    "fig, ax = plt.subplots(1,1)\n",
    "figsize( 12, 8 )\n",
    "ax.set_title('Modeled Ice Melt (% of GRDC Discharge)', fontsize=20 )\n",
    "ax.set_ylabel('% of Measured Discharge', fontsize=20 )\n",
    "ax.set_ylim( [0,55] )\n",
    "ax.set_xlim( [0,6] )\n",
    "plt.plot( x1, high_melt / discharge * 100., linestyle='', markersize=20., marker='o', color='blue' )\n",
    "\n",
    "plt.plot( x1, mid_high_melt / discharge * 100., linestyle='', markersize=20., marker='o', color='blue' )\n",
    "plt.plot( x1, mid_low_melt / discharge * 100., linestyle='', markersize=20., marker='o', color='blue' )\n",
    "plt.plot( x1, low_melt / discharge * 100., linestyle='', markersize=20., marker='o', color='blue' )\n",
    "plt.text( 1, high_melt[0] / discharge[0] * 100. + 2., str(discharge[0])+' +/- '+str(discharge_stdev[0])+\" $km^3$\", horizontalalignment='center', fontsize=20 )\n",
    "plt.text( 2, high_melt[1] / discharge[1] * 100. + 2., str(discharge[1])+' +/- '+str(discharge_stdev[1])+\" $km^3$\", horizontalalignment='center', fontsize=20 )\n",
    "plt.text( 3, high_melt[2] / discharge[2] * 100. + 2., str(discharge[2])+' +/- '+str(discharge_stdev[2])+\" $km^3$\", horizontalalignment='center', fontsize=20 )\n",
    "plt.text( 4, high_melt[3] / discharge[3] * 100. + 2., str(discharge[3])+' +/- '+str(discharge_stdev[3])+\" $km^3$\", horizontalalignment='center', fontsize=20 )\n",
    "plt.text( 5, high_melt[4] / discharge[4] * 100. + 2., str(discharge[4])+' +/- '+str(discharge_stdev[4])+\" $km^3$\", horizontalalignment='center', fontsize=20 )\n",
    "ax.set_xticks( x1 )\n",
    "ax.set_xticklabels( basins, fontsize=20 )\n",
    "ax.set_yticklabels( numpy.array([0,10,20,30,40,50]), fontsize=20 )\n",
    "fig.savefig('charis_discharge_vs_ice_melt.ps', dpi=300 )  # change filename to .pdf to save to different format\n"
   ]
  },
  {
   "cell_type": "markdown",
   "metadata": {
    "collapsed": false
   },
   "source": [
    "Author: M. J. Brodzik, written for CHARIS workshop, Dehra Dun, India, 2014"
   ]
  }
 ],
 "metadata": {
  "kernelspec": {
   "display_name": "Python 2",
   "language": "python",
   "name": "python2"
  },
  "language_info": {
   "codemirror_mode": {
    "name": "ipython",
    "version": 2
   },
   "file_extension": ".py",
   "mimetype": "text/x-python",
   "name": "python",
   "nbconvert_exporter": "python",
   "pygments_lexer": "ipython2",
   "version": "2.7.12"
  }
 },
 "nbformat": 4,
 "nbformat_minor": 0
}
