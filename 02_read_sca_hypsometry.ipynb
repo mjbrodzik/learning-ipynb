{
 "cells": [
  {
   "cell_type": "markdown",
   "metadata": {},
   "source": [
    "# 02_read_sca_hypsometry"
   ]
  },
  {
   "cell_type": "markdown",
   "metadata": {},
   "source": [
    "### <i><p>Purpose of this notebook:  Introduce you to:     <ol>         <li> CHARIS ASCII file format for hypsometry data</li>         <li> pandas (http://pandas.pydata.org), a python module for working with spreadsheet-types of data</li>         <li> my hypsometry.py python module (included in the short course materials) for reading and writing hypsometry data     </ol> </p>     <p>At the end of this lesson, you should be able to read a sample hypsometry file, and:     <ol>         <li> see if it includes comments         <li> figure out how many rows and columns it has         <li> look at the hypsometry data         <li> display one column of data, as a function of time         <li> create and customize figures     </ol> </p></i>"
   ]
  },
  {
   "cell_type": "markdown",
   "metadata": {},
   "source": [
    "Let's begin with a few configuration things:\n",
    "tell ipython to display plots right here in the notebook, and tell python I want to use numpy (for numerical array types), matplotlib (for making nice plots), and pandas (for working with DataFrames and Series data).\n",
    "\n",
    "Configure pandas display options to display big arrays nicely."
   ]
  },
  {
   "cell_type": "code",
   "execution_count": null,
   "metadata": {
    "collapsed": false
   },
   "outputs": [],
   "source": [
    "%pylab notebook\n",
    "import numpy as np\n",
    "import matplotlib.pyplot as plt\n",
    "import pandas as pd\n",
    "#pd.describe_option('display')\n",
    "pd.set_option('display.max_rows', 370)\n",
    "pd.set_option('display.max_columns', 70)\n",
    "pd.set_option('display.width', 200)"
   ]
  },
  {
   "cell_type": "markdown",
   "metadata": {},
   "source": [
    "CHARIS hypsometry files are ASCII-formatted files that I defined.  I originally worked on them in IDL but python will read and write them also.\n",
    "\n",
    "Here's an example file:"
   ]
  },
  {
   "cell_type": "code",
   "execution_count": null,
   "metadata": {
    "collapsed": false
   },
   "outputs": [],
   "source": [
    "!cat test.sca_by_elev.txt"
   ]
  },
  {
   "cell_type": "markdown",
   "metadata": {},
   "source": [
    "The next cell has an \"import\" trick that lets you edit a python script, run it, edit the script again and run it again, all from inside ipython:"
   ]
  },
  {
   "cell_type": "code",
   "execution_count": null,
   "metadata": {
    "collapsed": false
   },
   "outputs": [],
   "source": [
    "from imp import reload\n",
    "import hypsometry\n",
    "reload(hypsometry)\n",
    "filename = \"test.sca_by_elev.txt\"\n",
    "sca = hypsometry.Hypsometry()\n",
    "sca.read( filename, verbose=True )"
   ]
  },
  {
   "cell_type": "code",
   "execution_count": null,
   "metadata": {
    "collapsed": false
   },
   "outputs": [],
   "source": [
    "#sca.data.drop?\n",
    "pd.__version__"
   ]
  },
  {
   "cell_type": "code",
   "execution_count": null,
   "metadata": {
    "collapsed": false
   },
   "outputs": [],
   "source": [
    "#%debug"
   ]
  },
  {
   "cell_type": "markdown",
   "metadata": {},
   "source": [
    "So this \"sca\" variable now contains a pandas object that includes two \"attributes\", a string array with the comments (one comment line each), and a thing called a pandas \"DataFrame\".\n",
    "\n",
    "Pandas DataFrame terminology:\n",
    "<ul>\n",
    "    <li> rows and columns can be referred to by name as well as integers (like in a matrix)\n",
    "    <li> df.index : the names of the rows (hypsometry.py makes these dates)\n",
    "    <li> df.columns : the names of the columns (hypsometry.py makes these elevation bands)\n",
    "</ul>\n",
    "    "
   ]
  },
  {
   "cell_type": "code",
   "execution_count": null,
   "metadata": {
    "collapsed": false
   },
   "outputs": [],
   "source": [
    "help( sca )"
   ]
  },
  {
   "cell_type": "code",
   "execution_count": null,
   "metadata": {
    "collapsed": false
   },
   "outputs": [],
   "source": [
    "sca.comments"
   ]
  },
  {
   "cell_type": "code",
   "execution_count": null,
   "metadata": {
    "collapsed": false,
    "scrolled": true
   },
   "outputs": [],
   "source": [
    "sca.data"
   ]
  },
  {
   "cell_type": "markdown",
   "metadata": {},
   "source": [
    "Look at the names of rows with the pandas \"index\" attribute:"
   ]
  },
  {
   "cell_type": "code",
   "execution_count": null,
   "metadata": {
    "collapsed": false
   },
   "outputs": [],
   "source": [
    "sca.data.index \n",
    "#sca.data.index.tolist()  # equivalently: list( sca.data.index )\n",
    "#help( sca.data.index)"
   ]
  },
  {
   "cell_type": "code",
   "execution_count": null,
   "metadata": {
    "collapsed": false
   },
   "outputs": [],
   "source": [
    "sca.data.index.date"
   ]
  },
  {
   "cell_type": "code",
   "execution_count": null,
   "metadata": {
    "collapsed": false
   },
   "outputs": [],
   "source": [
    "list( sca.data.index)"
   ]
  },
  {
   "cell_type": "code",
   "execution_count": null,
   "metadata": {
    "collapsed": false
   },
   "outputs": [],
   "source": [
    "sca.write( 'out.txt', verbose=True)\n",
    "#sca.write( 'out.txt', verbose=True)"
   ]
  },
  {
   "cell_type": "code",
   "execution_count": null,
   "metadata": {
    "collapsed": false
   },
   "outputs": [],
   "source": [
    "!cat out.txt"
   ]
  },
  {
   "cell_type": "code",
   "execution_count": null,
   "metadata": {
    "collapsed": false
   },
   "outputs": [],
   "source": [
    "sca.data.describe()"
   ]
  },
  {
   "cell_type": "code",
   "execution_count": null,
   "metadata": {
    "collapsed": false
   },
   "outputs": [],
   "source": [
    "sca.data.columns"
   ]
  },
  {
   "cell_type": "code",
   "execution_count": null,
   "metadata": {
    "collapsed": false
   },
   "outputs": [],
   "source": [
    "sca.data.ix['2001-01-05','1500.0']"
   ]
  },
  {
   "cell_type": "markdown",
   "metadata": {},
   "source": [
    "## Printing sca for specific dates"
   ]
  },
  {
   "cell_type": "markdown",
   "metadata": {},
   "source": [
    "To slice hypsometry data by rows (a range of dates):"
   ]
  },
  {
   "cell_type": "code",
   "execution_count": null,
   "metadata": {
    "collapsed": false
   },
   "outputs": [],
   "source": [
    "sca.data.loc['2001-01-01':'2001-01-05']"
   ]
  },
  {
   "cell_type": "markdown",
   "metadata": {},
   "source": [
    "To see every 30 days:"
   ]
  },
  {
   "cell_type": "code",
   "execution_count": null,
   "metadata": {
    "collapsed": false
   },
   "outputs": [],
   "source": [
    "sca.data.ix[::30]"
   ]
  },
  {
   "cell_type": "markdown",
   "metadata": {},
   "source": [
    "To just look at a single column (this will return a pandas \"Series\" object, basically an index and value for every entry):"
   ]
  },
  {
   "cell_type": "code",
   "execution_count": null,
   "metadata": {
    "collapsed": false
   },
   "outputs": [],
   "source": [
    "sca.data['1400.0']"
   ]
  },
  {
   "cell_type": "markdown",
   "metadata": {},
   "source": [
    "## Just look at SCA at selected elevations in this basin:"
   ]
  },
  {
   "cell_type": "code",
   "execution_count": null,
   "metadata": {
    "collapsed": false
   },
   "outputs": [],
   "source": [
    "elevations = ['1400.0','2400.0','3400.0','4400.0','5400.0']\n",
    "sca.data[elevations]"
   ]
  },
  {
   "cell_type": "code",
   "execution_count": null,
   "metadata": {
    "collapsed": false
   },
   "outputs": [],
   "source": [
    "sca.data[elevations].plot()"
   ]
  },
  {
   "cell_type": "markdown",
   "metadata": {},
   "source": [
    "But notice how the elevations go from highest to lowest, where you'd really want to see lowest to highest:"
   ]
  },
  {
   "cell_type": "code",
   "execution_count": null,
   "metadata": {
    "collapsed": false
   },
   "outputs": [],
   "source": [
    "elevations[::-1]"
   ]
  },
  {
   "cell_type": "code",
   "execution_count": null,
   "metadata": {
    "collapsed": false
   },
   "outputs": [],
   "source": [
    "sca.data[elevations[::-1]].plot()"
   ]
  },
  {
   "cell_type": "markdown",
   "metadata": {},
   "source": [
    "Or you might not want them all on the same plot, maybe separate plots, sharing a y axis range would be better:"
   ]
  },
  {
   "cell_type": "code",
   "execution_count": null,
   "metadata": {
    "collapsed": false
   },
   "outputs": [],
   "source": [
    "sca.data[elevations[::-1]].plot( title=\"Basin SCA at selected elevations\",\n",
    "                                subplots=True, sharey=True, figsize=(12,8) )"
   ]
  },
  {
   "cell_type": "code",
   "execution_count": null,
   "metadata": {
    "collapsed": false
   },
   "outputs": [],
   "source": [
    "#help(sca.data)\n",
    "help(sca)"
   ]
  },
  {
   "cell_type": "markdown",
   "metadata": {},
   "source": [
    "## Total the SCA by date and display basin SCA time series"
   ]
  },
  {
   "cell_type": "markdown",
   "metadata": {},
   "source": [
    "I want to do this so often, I wrote a method on the hypsometry Class that will total up each row (date) for all elevations and return a total for each day:"
   ]
  },
  {
   "cell_type": "code",
   "execution_count": null,
   "metadata": {
    "collapsed": false
   },
   "outputs": [],
   "source": [
    "sca_by_doy = sca.data_by_doy()\n",
    "sca_by_doy.head()"
   ]
  },
  {
   "cell_type": "code",
   "execution_count": null,
   "metadata": {
    "collapsed": false
   },
   "outputs": [],
   "source": [
    "sca_by_doy.plot( title='Basin SCA, 2001', figsize=(12,8) )"
   ]
  },
  {
   "cell_type": "markdown",
   "metadata": {},
   "source": [
    "Here is a diagram showing the three main parts of a figure in matplotlib.pyplot:\n",
    "\n",
    "<img src=\"pyplot_figure_parts.png\">\n",
    "\n",
    "For more options on matplotlib line styles, see http://matplotlib.org/1.3.1/examples/pylab_examples/line_styles.html"
   ]
  },
  {
   "cell_type": "code",
   "execution_count": null,
   "metadata": {
    "collapsed": false,
    "scrolled": false
   },
   "outputs": [],
   "source": [
    "fig, ax = plt.subplots(1,1)\n",
    "ax.set_title('Basin SCA')\n",
    "ax.set_ylabel('Area (sq km)')\n",
    "ax.set_ylim([0,15000])\n",
    "plt.subplots_adjust(bottom=0.15)\n",
    "# plot style cheatsheet:\n",
    "# first character specifies color:\n",
    "#   'b' : blue\n",
    "#   'g' : green\n",
    "#   'r' : red\n",
    "#   'c' : cyan\n",
    "#   'm' : magenta\n",
    "#   'y' : yellow\n",
    "#   'k' : black\n",
    "# next 1 or 2 characters specify line style:\n",
    "#   '_' : short horizontal lines\n",
    "#   '-' : solid line (default)\n",
    "#   '--' : dashed line\n",
    "#   ':' : fine dots\n",
    "#   'o' : solid circles\n",
    "#   '.' : bigger dots \n",
    "sca_by_doy.plot( ax=ax, style='r--', figsize=(12,8) ) # here is another comment"
   ]
  },
  {
   "cell_type": "markdown",
   "metadata": {},
   "source": [
    "## A plot along a row can be plotted as a real hypsometry (with elevations on y-axis and data values on x-axis)"
   ]
  },
  {
   "cell_type": "markdown",
   "metadata": {},
   "source": [
    "I need to do a small format conversion with the columns to convert them from strings to floats before I do then next steps:"
   ]
  },
  {
   "cell_type": "code",
   "execution_count": null,
   "metadata": {
    "collapsed": true
   },
   "outputs": [],
   "source": [
    "sca.data.columns = [float(col) for col in sca.data.columns]"
   ]
  },
  {
   "cell_type": "markdown",
   "metadata": {},
   "source": [
    "Just using the default plot function will put the elevation bands on the x-axis, but this isn't very intuitive (you will have to scroll up to the plot window to see the output)."
   ]
  },
  {
   "cell_type": "code",
   "execution_count": null,
   "metadata": {
    "collapsed": false,
    "scrolled": false
   },
   "outputs": [],
   "source": [
    "sca.data.ix['2001-01-31'].plot()\n"
   ]
  },
  {
   "cell_type": "markdown",
   "metadata": {},
   "source": [
    "So we can turn this around by just asking for a horizontal bar plot:"
   ]
  },
  {
   "cell_type": "code",
   "execution_count": null,
   "metadata": {
    "collapsed": false
   },
   "outputs": [],
   "source": [
    "sca.data.ix['2001-01-31'].describe()\n",
    "sca.data.ix['2001-01-31'].plot( title='Basin SCA by elevation, 2001-01-31', \n",
    "                               kind='barh', figsize=(12,8))\n",
    "#sca.data.ix[['2001-01-31','2001-05-31']].plot( title='Basin SCA by elevation, 2001-01-31', subplots=True, kind='bar', figsize=(12,8))"
   ]
  },
  {
   "cell_type": "code",
   "execution_count": null,
   "metadata": {
    "collapsed": false
   },
   "outputs": [],
   "source": [
    "fig, ax = plt.subplots(1,1)\n",
    "ax.set_title('Basin SCA by elevation, 2001-01-31')\n",
    "ax.set_xlabel('SCA (sq km)')\n",
    "ax.set_ylabel('Elevation (m)')\n",
    "sca.data.ix['2001-01-31'].plot( kind='barh', figsize=(12,12))\n",
    "ax.set_yticks( ax.get_yticks()[::10] )\n",
    "ax.set_yticklabels( sca.data.columns[::10] )"
   ]
  },
  {
   "cell_type": "markdown",
   "metadata": {},
   "source": [
    "## All of the built-in matplotlib functions are available, too:"
   ]
  },
  {
   "cell_type": "code",
   "execution_count": null,
   "metadata": {
    "collapsed": false
   },
   "outputs": [],
   "source": [
    "fig, ax = plt.subplots(1,1)\n",
    "ax.set_title('Basin Change in SCA, Jan to Jun')\n",
    "ax.set_xlabel('January Area (sq km)')\n",
    "ax.set_ylabel('June Area (sq km)')\n",
    "#ax.set_aspect('equal')\n",
    "#ax.set_xlim( [ 0, 600 ] )\n",
    "#ax.set_ylim( [ 0, 600 ] )\n",
    "#plt.subplots_adjust(bottom=0.15)\n",
    "\n",
    "plt.scatter(sca.data.ix['2001-01-31'], sca.data.ix['2001-06-30'] )"
   ]
  },
  {
   "cell_type": "markdown",
   "metadata": {},
   "source": [
    "## Save data to an external file"
   ]
  },
  {
   "cell_type": "code",
   "execution_count": null,
   "metadata": {
    "collapsed": false
   },
   "outputs": [],
   "source": [
    "fig.savefig('sca_plot.png', dpi=300 )  # change filename to .pdf to save to different format\n"
   ]
  },
  {
   "cell_type": "code",
   "execution_count": null,
   "metadata": {
    "collapsed": false
   },
   "outputs": [],
   "source": []
  },
  {
   "cell_type": "markdown",
   "metadata": {
    "collapsed": false
   },
   "source": [
    "Author: M. J. Brodzik, written for CHARIS workshop, Dehra Dun, India, 2014"
   ]
  }
 ],
 "metadata": {
  "kernelspec": {
   "display_name": "Python 2",
   "language": "python",
   "name": "python2"
  },
  "language_info": {
   "codemirror_mode": {
    "name": "ipython",
    "version": 2
   },
   "file_extension": ".py",
   "mimetype": "text/x-python",
   "name": "python",
   "nbconvert_exporter": "python",
   "pygments_lexer": "ipython2",
   "version": "2.7.12"
  }
 },
 "nbformat": 4,
 "nbformat_minor": 0
}
